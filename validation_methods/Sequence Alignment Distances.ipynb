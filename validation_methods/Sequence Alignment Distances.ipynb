{
 "cells": [
  {
   "cell_type": "code",
   "execution_count": 1,
   "id": "21103524",
   "metadata": {},
   "outputs": [],
   "source": [
    "import pandas as pd\n",
    "import numpy as np\n",
    "import matplotlib.pyplot as plt"
   ]
  },
  {
   "cell_type": "code",
   "execution_count": 4,
   "id": "5f04985e",
   "metadata": {},
   "outputs": [],
   "source": [
    "real_test = pd.read_csv(\"labhourformattest_72.csv\")\n",
    "real_train = pd.read_csv(\"labhourformatrain_72.csv\")\n",
    "timegan = pd.read_csv(\"labtimeGAN-generated.csv\")\n",
    "deepecho_100 = pd.read_csv(\"deepEchoGenerated-100epoch.csv\")"
   ]
  },
  {
   "cell_type": "code",
   "execution_count": 7,
   "id": "4341cd8f",
   "metadata": {},
   "outputs": [],
   "source": [
    "testids = list(set(timegan[\"hadm_id\"]))[:200]\n",
    "timegan_test = timegan[timegan[\"hadm_id\"].isin(testids)]\n",
    "timegan_train = timegan[~timegan[\"hadm_id\"].isin(testids)]"
   ]
  },
  {
   "cell_type": "code",
   "execution_count": 8,
   "id": "e590ec06",
   "metadata": {},
   "outputs": [],
   "source": [
    "deepecho_100= deepecho_100.loc[:, ~deepecho_100.columns.isin(['gender', 'anchor_age',\"gender\", \"insurance\",\"marital_status\",\"race\",\"index\",\"hour\"])]\n"
   ]
  },
  {
   "cell_type": "code",
   "execution_count": 10,
   "id": "326bc1be",
   "metadata": {},
   "outputs": [
    {
     "data": {
      "text/plain": [
       "(200, 721, 200, 200)"
      ]
     },
     "execution_count": 10,
     "metadata": {},
     "output_type": "execute_result"
    }
   ],
   "source": [
    "len(set(real_test[\"hadm_id\"])), len(set(real_train[\"hadm_id\"])), len(set(timegan_test[\"hadm_id\"])), len(set(deepecho_100[\"hadm_id\"]))\n"
   ]
  },
  {
   "cell_type": "code",
   "execution_count": 27,
   "id": "a14a0325",
   "metadata": {},
   "outputs": [],
   "source": [
    "from scipy.spatial import distance\n",
    "import statistics"
   ]
  },
  {
   "cell_type": "code",
   "execution_count": null,
   "id": "a95c9645",
   "metadata": {},
   "outputs": [],
   "source": [
    "# want one distance for each column "
   ]
  },
  {
   "cell_type": "code",
   "execution_count": 26,
   "id": "e0047b33",
   "metadata": {},
   "outputs": [
    {
     "data": {
      "text/plain": [
       "0.6666666666666666"
      ]
     },
     "execution_count": 26,
     "metadata": {},
     "output_type": "execute_result"
    }
   ],
   "source": [
    "distance.hamming([1, 0, 0], [0, 1, 0])"
   ]
  },
  {
   "cell_type": "code",
   "execution_count": 70,
   "id": "6972b55a",
   "metadata": {},
   "outputs": [],
   "source": [
    "def gethammingdistance(data1, data2, columns):\n",
    "    data1ids = list(set(data1[\"hadm_id\"]))\n",
    "    data2ids = list(set(data2[\"hadm_id\"]))\n",
    "    hammingdistmean = {}\n",
    "    hammingdistmedian = {}\n",
    "    # get mean, median hamming distance for each column\n",
    "    for c in columns:\n",
    "        cdistances = {}\n",
    "        distances = []\n",
    "        for i in data1ids[:200]:\n",
    "            data1seq = data1[data1[\"hadm_id\"]==i][c].to_list()\n",
    "            for j in data2ids:\n",
    "                data2seq = data2[data2[\"hadm_id\"]==j][c].to_list()\n",
    "                distances.append(distance.hamming(data1seq, data2seq))\n",
    "        \n",
    "        hammingdistmean[c] = statistics.mean(distances)    \n",
    "        hammingdistmedian[c] = statistics.median(distances)\n",
    "        print(\"done column \", c)\n",
    "    return hammingdistmean, hammingdistmedian\n",
    "            "
   ]
  },
  {
   "cell_type": "code",
   "execution_count": 71,
   "id": "e6106310",
   "metadata": {},
   "outputs": [
    {
     "name": "stdout",
     "output_type": "stream",
     "text": [
      "done column  magnesium\n",
      "done column  lactate\n",
      "done column  creatinine\n",
      "done column  CBC\n",
      "done column  calcium\n",
      "done column  Urine\n",
      "done column  ABG\n",
      "done column  leukocytes\n",
      "done column  anion gap\n",
      "done column  pt\n",
      "done column  urea nitrogen\n",
      "done column  bicarbonate\n",
      "done column  Electrolytes\n"
     ]
    }
   ],
   "source": [
    "columns = [\"magnesium\",\"lactate\",\"creatinine\",\"CBC\",\"calcium\",\"Urine\",\"ABG\",\"leukocytes\",\"anion gap\",\"pt\",\"urea nitrogen\",\"bicarbonate\",\"Electrolytes\"]\n",
    "hammingdistmean, hammingdistmedian = gethammingdistance(real_train, real_test, columns)"
   ]
  },
  {
   "cell_type": "code",
   "execution_count": 73,
   "id": "fdd06230",
   "metadata": {},
   "outputs": [
    {
     "name": "stdout",
     "output_type": "stream",
     "text": [
      "done column  magnesium\n",
      "done column  lactate\n",
      "done column  creatinine\n",
      "done column  CBC\n",
      "done column  calcium\n",
      "done column  Urine\n",
      "done column  ABG\n",
      "done column  leukocytes\n",
      "done column  anion gap\n",
      "done column  pt\n",
      "done column  urea nitrogen\n",
      "done column  bicarbonate\n",
      "done column  Electrolytes\n"
     ]
    }
   ],
   "source": [
    "hammingdistmeandeep, hammingdistmediandeep = gethammingdistance(real_train, deepecho_100, columns)"
   ]
  },
  {
   "cell_type": "code",
   "execution_count": 74,
   "id": "80e7ec0b",
   "metadata": {},
   "outputs": [
    {
     "name": "stdout",
     "output_type": "stream",
     "text": [
      "done column  magnesium\n",
      "done column  lactate\n",
      "done column  creatinine\n",
      "done column  CBC\n",
      "done column  calcium\n",
      "done column  Urine\n",
      "done column  ABG\n",
      "done column  leukocytes\n",
      "done column  anion gap\n",
      "done column  pt\n",
      "done column  urea nitrogen\n",
      "done column  bicarbonate\n",
      "done column  Electrolytes\n"
     ]
    }
   ],
   "source": [
    "hammingdistmeantime, hammingdistmediantime = gethammingdistance(real_train, timegan_test, columns)"
   ]
  },
  {
   "cell_type": "code",
   "execution_count": 79,
   "id": "820f6161",
   "metadata": {},
   "outputs": [],
   "source": [
    "hammingmeandic = {}\n",
    "hammingmeandic[\"real\"]  = list(hammingdistmean.values()) + [statistics.mean(list(hammingdistmean.values()))]\n",
    "hammingmeandic[\"deepEcho\"]  = list(hammingdistmeandeep.values()) + [statistics.mean(list(hammingdistmeandeep.values()))]\n",
    "hammingmeandic[\"timeGAN\"]  = list(hammingdistmeantime.values()) + [statistics.mean(list(hammingdistmeantime.values()))]"
   ]
  },
  {
   "cell_type": "code",
   "execution_count": 80,
   "id": "26c9e30e",
   "metadata": {},
   "outputs": [],
   "source": [
    "hammingmediandic = {}\n",
    "hammingmediandic[\"real\"]  = list(hammingdistmedian.values()) + [statistics.median(list(hammingdistmedian.values()))]\n",
    "hammingmediandic[\"deepEcho\"]  = list(hammingdistmediandeep.values())+ [statistics.median(list(hammingdistmediandeep.values()))]\n",
    "hammingmediandic[\"timeGAN\"]  = list(hammingdistmediantime.values())+ [statistics.median(list(hammingdistmediantime.values()))]"
   ]
  },
  {
   "cell_type": "markdown",
   "id": "72af3c3b",
   "metadata": {},
   "source": [
    "# hamming distance"
   ]
  },
  {
   "cell_type": "code",
   "execution_count": 77,
   "id": "80006130",
   "metadata": {},
   "outputs": [
    {
     "name": "stdout",
     "output_type": "stream",
     "text": [
      "Mean Hamming Distance\n"
     ]
    },
    {
     "data": {
      "text/html": [
       "<div>\n",
       "<style scoped>\n",
       "    .dataframe tbody tr th:only-of-type {\n",
       "        vertical-align: middle;\n",
       "    }\n",
       "\n",
       "    .dataframe tbody tr th {\n",
       "        vertical-align: top;\n",
       "    }\n",
       "\n",
       "    .dataframe thead th {\n",
       "        text-align: right;\n",
       "    }\n",
       "</style>\n",
       "<table border=\"1\" class=\"dataframe\">\n",
       "  <thead>\n",
       "    <tr style=\"text-align: right;\">\n",
       "      <th></th>\n",
       "      <th>magnesium</th>\n",
       "      <th>lactate</th>\n",
       "      <th>creatinine</th>\n",
       "      <th>CBC</th>\n",
       "      <th>calcium</th>\n",
       "      <th>Urine</th>\n",
       "      <th>ABG</th>\n",
       "      <th>leukocytes</th>\n",
       "      <th>anion gap</th>\n",
       "      <th>pt</th>\n",
       "      <th>urea nitrogen</th>\n",
       "      <th>bicarbonate</th>\n",
       "      <th>Electrolytes</th>\n",
       "      <th>total</th>\n",
       "    </tr>\n",
       "  </thead>\n",
       "  <tbody>\n",
       "    <tr>\n",
       "      <th>real</th>\n",
       "      <td>0.084478</td>\n",
       "      <td>0.084160</td>\n",
       "      <td>0.104409</td>\n",
       "      <td>0.187115</td>\n",
       "      <td>0.154560</td>\n",
       "      <td>0.224317</td>\n",
       "      <td>0.171658</td>\n",
       "      <td>0.011763</td>\n",
       "      <td>0.092256</td>\n",
       "      <td>0.068203</td>\n",
       "      <td>0.103803</td>\n",
       "      <td>0.097790</td>\n",
       "      <td>0.213907</td>\n",
       "      <td>0.122955</td>\n",
       "    </tr>\n",
       "    <tr>\n",
       "      <th>deepEcho</th>\n",
       "      <td>0.091347</td>\n",
       "      <td>0.090913</td>\n",
       "      <td>0.115204</td>\n",
       "      <td>0.205478</td>\n",
       "      <td>0.168711</td>\n",
       "      <td>0.243676</td>\n",
       "      <td>0.204838</td>\n",
       "      <td>0.034437</td>\n",
       "      <td>0.100638</td>\n",
       "      <td>0.080507</td>\n",
       "      <td>0.114898</td>\n",
       "      <td>0.104556</td>\n",
       "      <td>0.237922</td>\n",
       "      <td>0.137933</td>\n",
       "    </tr>\n",
       "    <tr>\n",
       "      <th>timeGAN</th>\n",
       "      <td>0.046111</td>\n",
       "      <td>0.052778</td>\n",
       "      <td>0.058403</td>\n",
       "      <td>0.131459</td>\n",
       "      <td>0.101942</td>\n",
       "      <td>0.158449</td>\n",
       "      <td>0.126323</td>\n",
       "      <td>0.006875</td>\n",
       "      <td>0.051042</td>\n",
       "      <td>0.041736</td>\n",
       "      <td>0.057986</td>\n",
       "      <td>0.054236</td>\n",
       "      <td>0.149126</td>\n",
       "      <td>0.079728</td>\n",
       "    </tr>\n",
       "  </tbody>\n",
       "</table>\n",
       "</div>"
      ],
      "text/plain": [
       "          magnesium   lactate  creatinine       CBC   calcium     Urine  \\\n",
       "real       0.084478  0.084160    0.104409  0.187115  0.154560  0.224317   \n",
       "deepEcho   0.091347  0.090913    0.115204  0.205478  0.168711  0.243676   \n",
       "timeGAN    0.046111  0.052778    0.058403  0.131459  0.101942  0.158449   \n",
       "\n",
       "               ABG  leukocytes  anion gap        pt  urea nitrogen  \\\n",
       "real      0.171658    0.011763   0.092256  0.068203       0.103803   \n",
       "deepEcho  0.204838    0.034437   0.100638  0.080507       0.114898   \n",
       "timeGAN   0.126323    0.006875   0.051042  0.041736       0.057986   \n",
       "\n",
       "          bicarbonate  Electrolytes     total  \n",
       "real         0.097790      0.213907  0.122955  \n",
       "deepEcho     0.104556      0.237922  0.137933  \n",
       "timeGAN      0.054236      0.149126  0.079728  "
      ]
     },
     "execution_count": 77,
     "metadata": {},
     "output_type": "execute_result"
    }
   ],
   "source": [
    "print(\"Mean Hamming Distance\")\n",
    "pd.DataFrame.from_dict(hammingmeandic, orient='index', columns=columns+[\"total\"])"
   ]
  },
  {
   "cell_type": "code",
   "execution_count": 78,
   "id": "bf669768",
   "metadata": {},
   "outputs": [
    {
     "name": "stdout",
     "output_type": "stream",
     "text": [
      "Median Hamming Distance\n"
     ]
    },
    {
     "data": {
      "text/html": [
       "<div>\n",
       "<style scoped>\n",
       "    .dataframe tbody tr th:only-of-type {\n",
       "        vertical-align: middle;\n",
       "    }\n",
       "\n",
       "    .dataframe tbody tr th {\n",
       "        vertical-align: top;\n",
       "    }\n",
       "\n",
       "    .dataframe thead th {\n",
       "        text-align: right;\n",
       "    }\n",
       "</style>\n",
       "<table border=\"1\" class=\"dataframe\">\n",
       "  <thead>\n",
       "    <tr style=\"text-align: right;\">\n",
       "      <th></th>\n",
       "      <th>magnesium</th>\n",
       "      <th>lactate</th>\n",
       "      <th>creatinine</th>\n",
       "      <th>CBC</th>\n",
       "      <th>calcium</th>\n",
       "      <th>Urine</th>\n",
       "      <th>ABG</th>\n",
       "      <th>leukocytes</th>\n",
       "      <th>anion gap</th>\n",
       "      <th>pt</th>\n",
       "      <th>urea nitrogen</th>\n",
       "      <th>bicarbonate</th>\n",
       "      <th>Electrolytes</th>\n",
       "      <th>total</th>\n",
       "    </tr>\n",
       "  </thead>\n",
       "  <tbody>\n",
       "    <tr>\n",
       "      <th>real</th>\n",
       "      <td>0.083333</td>\n",
       "      <td>0.069444</td>\n",
       "      <td>0.111111</td>\n",
       "      <td>0.180556</td>\n",
       "      <td>0.152778</td>\n",
       "      <td>0.208333</td>\n",
       "      <td>0.152778</td>\n",
       "      <td>0.013889</td>\n",
       "      <td>0.097222</td>\n",
       "      <td>0.069444</td>\n",
       "      <td>0.111111</td>\n",
       "      <td>0.097222</td>\n",
       "      <td>0.208333</td>\n",
       "      <td>0.111111</td>\n",
       "    </tr>\n",
       "    <tr>\n",
       "      <th>deepEcho</th>\n",
       "      <td>0.097222</td>\n",
       "      <td>0.083333</td>\n",
       "      <td>0.111111</td>\n",
       "      <td>0.208333</td>\n",
       "      <td>0.166667</td>\n",
       "      <td>0.236111</td>\n",
       "      <td>0.194444</td>\n",
       "      <td>0.027778</td>\n",
       "      <td>0.097222</td>\n",
       "      <td>0.083333</td>\n",
       "      <td>0.111111</td>\n",
       "      <td>0.097222</td>\n",
       "      <td>0.236111</td>\n",
       "      <td>0.111111</td>\n",
       "    </tr>\n",
       "    <tr>\n",
       "      <th>timeGAN</th>\n",
       "      <td>0.041667</td>\n",
       "      <td>0.041667</td>\n",
       "      <td>0.055556</td>\n",
       "      <td>0.125000</td>\n",
       "      <td>0.097222</td>\n",
       "      <td>0.152778</td>\n",
       "      <td>0.111111</td>\n",
       "      <td>0.000000</td>\n",
       "      <td>0.055556</td>\n",
       "      <td>0.041667</td>\n",
       "      <td>0.055556</td>\n",
       "      <td>0.055556</td>\n",
       "      <td>0.138889</td>\n",
       "      <td>0.055556</td>\n",
       "    </tr>\n",
       "  </tbody>\n",
       "</table>\n",
       "</div>"
      ],
      "text/plain": [
       "          magnesium   lactate  creatinine       CBC   calcium     Urine  \\\n",
       "real       0.083333  0.069444    0.111111  0.180556  0.152778  0.208333   \n",
       "deepEcho   0.097222  0.083333    0.111111  0.208333  0.166667  0.236111   \n",
       "timeGAN    0.041667  0.041667    0.055556  0.125000  0.097222  0.152778   \n",
       "\n",
       "               ABG  leukocytes  anion gap        pt  urea nitrogen  \\\n",
       "real      0.152778    0.013889   0.097222  0.069444       0.111111   \n",
       "deepEcho  0.194444    0.027778   0.097222  0.083333       0.111111   \n",
       "timeGAN   0.111111    0.000000   0.055556  0.041667       0.055556   \n",
       "\n",
       "          bicarbonate  Electrolytes     total  \n",
       "real         0.097222      0.208333  0.111111  \n",
       "deepEcho     0.097222      0.236111  0.111111  \n",
       "timeGAN      0.055556      0.138889  0.055556  "
      ]
     },
     "execution_count": 78,
     "metadata": {},
     "output_type": "execute_result"
    }
   ],
   "source": [
    "print(\"Median Hamming Distance\")\n",
    "pd.DataFrame.from_dict(hammingmediandic, orient='index', columns=columns+[\"total\"])"
   ]
  },
  {
   "cell_type": "code",
   "execution_count": null,
   "id": "25bcfdc3",
   "metadata": {},
   "outputs": [],
   "source": []
  },
  {
   "cell_type": "code",
   "execution_count": null,
   "id": "e2d054a3",
   "metadata": {},
   "outputs": [],
   "source": []
  },
  {
   "cell_type": "code",
   "execution_count": null,
   "id": "58e59a29",
   "metadata": {},
   "outputs": [],
   "source": []
  }
 ],
 "metadata": {
  "kernelspec": {
   "display_name": "Python 3 (ipykernel)",
   "language": "python",
   "name": "python3"
  },
  "language_info": {
   "codemirror_mode": {
    "name": "ipython",
    "version": 3
   },
   "file_extension": ".py",
   "mimetype": "text/x-python",
   "name": "python",
   "nbconvert_exporter": "python",
   "pygments_lexer": "ipython3",
   "version": "3.7.16"
  }
 },
 "nbformat": 4,
 "nbformat_minor": 5
}
