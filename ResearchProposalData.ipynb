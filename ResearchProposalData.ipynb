{
 "cells": [
  {
   "cell_type": "markdown",
   "id": "d710e544",
   "metadata": {},
   "source": [
    "# Validation of Synthesised Patient Trajectories\n",
    "\n",
    "This is a notebook containing the code used to generate a small example synthetic dataset with three models: TimeGAN, DeepEcho, and ehrMGAN. \n",
    "\n",
    "Before running the models, download TimeGAN and ehrMGAN from the following links and save to the same directory as this file:\n",
    "\n",
    "https://github.com/jsyoon0823/TimeGAN\n",
    "\n",
    "https://github.com/jli0117/ehrMGAN\n",
    "\n",
    "Note that TimeGAN and ehrmgan need to be ran with python 3.7"
   ]
  },
  {
   "cell_type": "code",
   "execution_count": 2,
   "id": "af383d5c",
   "metadata": {},
   "outputs": [],
   "source": [
    "import numpy as np\n",
    "import pandas as pd\n",
    "import os"
   ]
  },
  {
   "cell_type": "code",
   "execution_count": 3,
   "id": "9e5d4fae",
   "metadata": {},
   "outputs": [],
   "source": [
    "# create example data\n",
    "temp = []\n",
    "for x in range(1000):\n",
    "    arr = np.array([[1, 0], [2,0],[3,0], [4,1]])\n",
    "    temp.append(arr)"
   ]
  },
  {
   "cell_type": "markdown",
   "id": "dc4d8eff",
   "metadata": {},
   "source": [
    "# TimeGAN implementation\n",
    "\n",
    "ensure the required version of tensorflow is running\n",
    "\n",
    "#!pip install --upgrade tensorflow==1.15.0"
   ]
  },
  {
   "cell_type": "code",
   "execution_count": 34,
   "id": "0021de58",
   "metadata": {},
   "outputs": [
    {
     "data": {
      "text/plain": [
       "'/Users/lilyfelstead/Desktop/genreportdata/TimeGAN'"
      ]
     },
     "execution_count": 34,
     "metadata": {},
     "output_type": "execute_result"
    }
   ],
   "source": [
    "pwd"
   ]
  },
  {
   "cell_type": "code",
   "execution_count": 14,
   "id": "2db7568e",
   "metadata": {},
   "outputs": [],
   "source": [
    "import os\n",
    "os.chdir('TimeGAN')"
   ]
  },
  {
   "cell_type": "code",
   "execution_count": 7,
   "id": "3e234b3e",
   "metadata": {},
   "outputs": [
    {
     "data": {
      "text/plain": [
       "'/Users/lilyfelstead/Desktop/genreportdata/TimeGAN'"
      ]
     },
     "execution_count": 7,
     "metadata": {},
     "output_type": "execute_result"
    }
   ],
   "source": [
    "pwd"
   ]
  },
  {
   "cell_type": "code",
   "execution_count": 8,
   "id": "f1f64fc3",
   "metadata": {},
   "outputs": [],
   "source": [
    "## Necessary packages\n",
    "from __future__ import absolute_import\n",
    "from __future__ import division\n",
    "from __future__ import print_function\n",
    "\n",
    "import numpy as np\n",
    "import warnings\n",
    "warnings.filterwarnings(\"ignore\")\n",
    "\n",
    "# 1. TimeGAN model\n",
    "from timegan import timegan\n",
    "# 2. Data loading\n",
    "from data_loading import real_data_loading, sine_data_generation\n",
    "# 3. Metrics\n",
    "from metrics.discriminative_metrics import discriminative_score_metrics\n",
    "from metrics.predictive_metrics import predictive_score_metrics\n",
    "from metrics.visualization_metrics import visualization"
   ]
  },
  {
   "cell_type": "code",
   "execution_count": 9,
   "id": "38fa05c8",
   "metadata": {},
   "outputs": [],
   "source": [
    "## Newtork parameters\n",
    "parameters = dict()\n",
    "\n",
    "parameters['module'] = 'gru' \n",
    "parameters['hidden_dim'] = 10\n",
    "parameters['num_layer'] = 3\n",
    "parameters['iterations'] = 200\n",
    "parameters['batch_size'] = 50"
   ]
  },
  {
   "cell_type": "code",
   "execution_count": 10,
   "id": "65e4829e",
   "metadata": {},
   "outputs": [
    {
     "name": "stdout",
     "output_type": "stream",
     "text": [
      "WARNING:tensorflow:From /Users/lilyfelstead/Desktop/genreportdata/TimeGAN/timegan.py:38: The name tf.reset_default_graph is deprecated. Please use tf.compat.v1.reset_default_graph instead.\n",
      "\n",
      "WARNING:tensorflow:From /Users/lilyfelstead/Desktop/genreportdata/TimeGAN/timegan.py:80: The name tf.placeholder is deprecated. Please use tf.compat.v1.placeholder instead.\n",
      "\n",
      "WARNING:tensorflow:From /Users/lilyfelstead/Desktop/genreportdata/TimeGAN/timegan.py:94: The name tf.variable_scope is deprecated. Please use tf.compat.v1.variable_scope instead.\n",
      "\n",
      "WARNING:tensorflow:From /Users/lilyfelstead/Desktop/genreportdata/TimeGAN/timegan.py:94: The name tf.AUTO_REUSE is deprecated. Please use tf.compat.v1.AUTO_REUSE instead.\n",
      "\n",
      "WARNING:tensorflow:From /Users/lilyfelstead/Desktop/genreportdata/TimeGAN/utils.py:95: GRUCell.__init__ (from tensorflow.python.ops.rnn_cell_impl) is deprecated and will be removed in a future version.\n",
      "Instructions for updating:\n",
      "This class is equivalent as tf.keras.layers.GRUCell, and will be replaced by that in Tensorflow 2.0.\n",
      "WARNING:tensorflow:From /Users/lilyfelstead/Desktop/genreportdata/TimeGAN/timegan.py:95: MultiRNNCell.__init__ (from tensorflow.python.ops.rnn_cell_impl) is deprecated and will be removed in a future version.\n",
      "Instructions for updating:\n",
      "This class is equivalent as tf.keras.layers.StackedRNNCells, and will be replaced by that in Tensorflow 2.0.\n",
      "WARNING:tensorflow:From /Users/lilyfelstead/Desktop/genreportdata/TimeGAN/timegan.py:96: dynamic_rnn (from tensorflow.python.ops.rnn) is deprecated and will be removed in a future version.\n",
      "Instructions for updating:\n",
      "Please use `keras.layers.RNN(cell)`, which is equivalent to this API\n",
      "WARNING:tensorflow:From /Users/lilyfelstead/opt/anaconda3/envs/py37/lib/python3.7/site-packages/tensorflow_core/python/ops/rnn_cell_impl.py:559: Layer.add_variable (from tensorflow.python.keras.engine.base_layer) is deprecated and will be removed in a future version.\n",
      "Instructions for updating:\n",
      "Please use `layer.add_weight` method instead.\n",
      "WARNING:tensorflow:From /Users/lilyfelstead/opt/anaconda3/envs/py37/lib/python3.7/site-packages/tensorflow_core/python/ops/rnn_cell_impl.py:565: calling Constant.__init__ (from tensorflow.python.ops.init_ops) with dtype is deprecated and will be removed in a future version.\n",
      "Instructions for updating:\n",
      "Call initializer instance with the dtype argument instead of passing it to the constructor\n",
      "WARNING:tensorflow:From /Users/lilyfelstead/opt/anaconda3/envs/py37/lib/python3.7/site-packages/tensorflow_core/python/ops/rnn_cell_impl.py:575: calling Zeros.__init__ (from tensorflow.python.ops.init_ops) with dtype is deprecated and will be removed in a future version.\n",
      "Instructions for updating:\n",
      "Call initializer instance with the dtype argument instead of passing it to the constructor\n",
      "WARNING:tensorflow:From /Users/lilyfelstead/opt/anaconda3/envs/py37/lib/python3.7/site-packages/tensorflow_core/python/ops/rnn.py:244: where (from tensorflow.python.ops.array_ops) is deprecated and will be removed in a future version.\n",
      "Instructions for updating:\n",
      "Use tf.where in 2.0, which has the same broadcast rule as np.where\n",
      "WARNING:tensorflow:\n",
      "The TensorFlow contrib module will not be included in TensorFlow 2.0.\n",
      "For more information, please see:\n",
      "  * https://github.com/tensorflow/community/blob/master/rfcs/20180907-contrib-sunset.md\n",
      "  * https://github.com/tensorflow/addons\n",
      "  * https://github.com/tensorflow/io (for I/O related ops)\n",
      "If you depend on functionality not listed there, please file an issue.\n",
      "\n",
      "WARNING:tensorflow:From /Users/lilyfelstead/opt/anaconda3/envs/py37/lib/python3.7/site-packages/tensorflow_core/contrib/layers/python/layers/layers.py:1866: Layer.apply (from tensorflow.python.keras.engine.base_layer) is deprecated and will be removed in a future version.\n",
      "Instructions for updating:\n",
      "Please use `layer.__call__` method instead.\n",
      "WARNING:tensorflow:From /Users/lilyfelstead/Desktop/genreportdata/TimeGAN/timegan.py:182: The name tf.trainable_variables is deprecated. Please use tf.compat.v1.trainable_variables instead.\n",
      "\n",
      "WARNING:tensorflow:From /Users/lilyfelstead/Desktop/genreportdata/TimeGAN/timegan.py:189: The name tf.losses.sigmoid_cross_entropy is deprecated. Please use tf.compat.v1.losses.sigmoid_cross_entropy instead.\n",
      "\n",
      "WARNING:tensorflow:From /Users/lilyfelstead/Desktop/genreportdata/TimeGAN/timegan.py:200: The name tf.losses.mean_squared_error is deprecated. Please use tf.compat.v1.losses.mean_squared_error instead.\n",
      "\n",
      "WARNING:tensorflow:From /Users/lilyfelstead/Desktop/genreportdata/TimeGAN/timegan.py:217: The name tf.train.AdamOptimizer is deprecated. Please use tf.compat.v1.train.AdamOptimizer instead.\n",
      "\n",
      "WARNING:tensorflow:From /Users/lilyfelstead/Desktop/genreportdata/TimeGAN/timegan.py:224: The name tf.Session is deprecated. Please use tf.compat.v1.Session instead.\n",
      "\n",
      "WARNING:tensorflow:From /Users/lilyfelstead/Desktop/genreportdata/TimeGAN/timegan.py:225: The name tf.global_variables_initializer is deprecated. Please use tf.compat.v1.global_variables_initializer instead.\n",
      "\n"
     ]
    },
    {
     "name": "stderr",
     "output_type": "stream",
     "text": [
      "2023-04-28 15:38:20.050480: I tensorflow/core/platform/cpu_feature_guard.cc:142] Your CPU supports instructions that this TensorFlow binary was not compiled to use: AVX2 FMA\n",
      "2023-04-28 15:38:20.082225: I tensorflow/compiler/xla/service/service.cc:168] XLA service 0x7f9a50159af0 initialized for platform Host (this does not guarantee that XLA will be used). Devices:\n",
      "2023-04-28 15:38:20.082246: I tensorflow/compiler/xla/service/service.cc:176]   StreamExecutor device (0): Host, Default Version\n"
     ]
    },
    {
     "name": "stdout",
     "output_type": "stream",
     "text": [
      "Start Embedding Network Training\n",
      "step: 0/200, e_loss: 0.4388\n",
      "Finish Embedding Network Training\n",
      "Start Training with Supervised Loss Only\n",
      "step: 0/200, s_loss: 0.3495\n",
      "Finish Training with Supervised Loss Only\n",
      "Start Joint Training\n",
      "step: 0/200, d_loss: 2.0915, g_loss_u: 0.6866, g_loss_s: 0.0963, g_loss_v: 0.058, e_loss_t0: 0.0664\n",
      "Finish Joint Training\n",
      "Finish Synthetic Data Generation\n"
     ]
    }
   ],
   "source": [
    "generated_data = timegan(temp, parameters)   \n",
    "print('Finish Synthetic Data Generation')"
   ]
  },
  {
   "cell_type": "code",
   "execution_count": 11,
   "id": "bf07233b",
   "metadata": {},
   "outputs": [
    {
     "data": {
      "text/plain": [
       "array([[1.01780093e+00, 2.13903189e-03],\n",
       "       [2.01272541e+00, 2.17914581e-03],\n",
       "       [3.01145506e+00, 3.80960107e-03],\n",
       "       [3.98228419e+00, 9.97177720e-01]])"
      ]
     },
     "execution_count": 11,
     "metadata": {},
     "output_type": "execute_result"
    }
   ],
   "source": [
    "# look at first synthetic patient \n",
    "generated_data[0]"
   ]
  },
  {
   "cell_type": "code",
   "execution_count": null,
   "id": "40356d7c",
   "metadata": {},
   "outputs": [],
   "source": []
  },
  {
   "cell_type": "markdown",
   "id": "26e25856",
   "metadata": {},
   "source": [
    "# deepEcho implementation"
   ]
  },
  {
   "cell_type": "code",
   "execution_count": 3,
   "id": "75d6c15f",
   "metadata": {},
   "outputs": [],
   "source": [
    "!pip install deepecho"
   ]
  },
  {
   "cell_type": "code",
   "execution_count": 4,
   "id": "461d8751",
   "metadata": {},
   "outputs": [],
   "source": [
    "# reformat example data\n",
    "example = []\n",
    "for i in range(1000):\n",
    "    example.append([i,0,1,0])\n",
    "    example.append([i,1,2,0])\n",
    "    example.append([i,2,3,0])\n",
    "    example.append([i,3,4,1])\n",
    "exampledf = pd.DataFrame(example, columns = ['id','time','c1','d1'])"
   ]
  },
  {
   "cell_type": "code",
   "execution_count": 5,
   "id": "a2fe53b9",
   "metadata": {},
   "outputs": [],
   "source": [
    "data_types = {\n",
    "    'id': 'categorical',\n",
    "    'c1': 'continuous',\n",
    "    'd1': 'categorical',\n",
    "}\n",
    "sequence_index = 'time'\n",
    "context_columns = []\n",
    "entity_columns = ['id']"
   ]
  },
  {
   "cell_type": "code",
   "execution_count": 8,
   "id": "b68006b9",
   "metadata": {},
   "outputs": [
    {
     "name": "stderr",
     "output_type": "stream",
     "text": [
      "Epoch 100 | Loss -0.0020709929522126913: 100%|█| 100/100 [01:01<00:00,  1.62it/s\n"
     ]
    }
   ],
   "source": [
    "from deepecho import PARModel\n",
    "\n",
    "model = PARModel(epochs=100, cuda=False)\n",
    "model.fit(\n",
    "    data=exampledf,\n",
    "    entity_columns=entity_columns,\n",
    "    context_columns=context_columns,\n",
    "    data_types=data_types,\n",
    "    sequence_index=sequence_index\n",
    ")"
   ]
  },
  {
   "cell_type": "code",
   "execution_count": 12,
   "id": "d7721951",
   "metadata": {},
   "outputs": [
    {
     "name": "stderr",
     "output_type": "stream",
     "text": [
      "  0%|                                                     | 0/5 [00:00<?, ?it/s]/Users/lilyfelstead/opt/anaconda3/lib/python3.9/site-packages/deepecho/models/base.py:251: FutureWarning: The frame.append method is deprecated and will be removed from pandas in a future version. Use pandas.concat instead.\n",
      "  output = output.append(group)\n",
      "/Users/lilyfelstead/opt/anaconda3/lib/python3.9/site-packages/deepecho/models/base.py:251: FutureWarning: The frame.append method is deprecated and will be removed from pandas in a future version. Use pandas.concat instead.\n",
      "  output = output.append(group)\n",
      "/Users/lilyfelstead/opt/anaconda3/lib/python3.9/site-packages/deepecho/models/base.py:251: FutureWarning: The frame.append method is deprecated and will be removed from pandas in a future version. Use pandas.concat instead.\n",
      "  output = output.append(group)\n",
      "/Users/lilyfelstead/opt/anaconda3/lib/python3.9/site-packages/deepecho/models/base.py:251: FutureWarning: The frame.append method is deprecated and will be removed from pandas in a future version. Use pandas.concat instead.\n",
      "  output = output.append(group)\n",
      "/Users/lilyfelstead/opt/anaconda3/lib/python3.9/site-packages/deepecho/models/base.py:251: FutureWarning: The frame.append method is deprecated and will be removed from pandas in a future version. Use pandas.concat instead.\n",
      "  output = output.append(group)\n",
      "100%|█████████████████████████████████████████████| 5/5 [00:00<00:00, 99.15it/s]\n"
     ]
    },
    {
     "data": {
      "text/html": [
       "<div>\n",
       "<style scoped>\n",
       "    .dataframe tbody tr th:only-of-type {\n",
       "        vertical-align: middle;\n",
       "    }\n",
       "\n",
       "    .dataframe tbody tr th {\n",
       "        vertical-align: top;\n",
       "    }\n",
       "\n",
       "    .dataframe thead th {\n",
       "        text-align: right;\n",
       "    }\n",
       "</style>\n",
       "<table border=\"1\" class=\"dataframe\">\n",
       "  <thead>\n",
       "    <tr style=\"text-align: right;\">\n",
       "      <th></th>\n",
       "      <th>id</th>\n",
       "      <th>c1</th>\n",
       "      <th>d1</th>\n",
       "    </tr>\n",
       "  </thead>\n",
       "  <tbody>\n",
       "    <tr>\n",
       "      <th>0</th>\n",
       "      <td>0</td>\n",
       "      <td>1.194418</td>\n",
       "      <td>0</td>\n",
       "    </tr>\n",
       "    <tr>\n",
       "      <th>1</th>\n",
       "      <td>0</td>\n",
       "      <td>1.675329</td>\n",
       "      <td>0</td>\n",
       "    </tr>\n",
       "    <tr>\n",
       "      <th>2</th>\n",
       "      <td>0</td>\n",
       "      <td>2.786574</td>\n",
       "      <td>0</td>\n",
       "    </tr>\n",
       "    <tr>\n",
       "      <th>3</th>\n",
       "      <td>0</td>\n",
       "      <td>3.894432</td>\n",
       "      <td>0</td>\n",
       "    </tr>\n",
       "    <tr>\n",
       "      <th>4</th>\n",
       "      <td>1</td>\n",
       "      <td>1.454316</td>\n",
       "      <td>0</td>\n",
       "    </tr>\n",
       "    <tr>\n",
       "      <th>5</th>\n",
       "      <td>1</td>\n",
       "      <td>2.040868</td>\n",
       "      <td>0</td>\n",
       "    </tr>\n",
       "    <tr>\n",
       "      <th>6</th>\n",
       "      <td>1</td>\n",
       "      <td>3.058112</td>\n",
       "      <td>1</td>\n",
       "    </tr>\n",
       "    <tr>\n",
       "      <th>7</th>\n",
       "      <td>1</td>\n",
       "      <td>3.162493</td>\n",
       "      <td>0</td>\n",
       "    </tr>\n",
       "    <tr>\n",
       "      <th>8</th>\n",
       "      <td>2</td>\n",
       "      <td>0.898410</td>\n",
       "      <td>0</td>\n",
       "    </tr>\n",
       "    <tr>\n",
       "      <th>9</th>\n",
       "      <td>2</td>\n",
       "      <td>2.047398</td>\n",
       "      <td>0</td>\n",
       "    </tr>\n",
       "    <tr>\n",
       "      <th>10</th>\n",
       "      <td>2</td>\n",
       "      <td>3.055161</td>\n",
       "      <td>1</td>\n",
       "    </tr>\n",
       "    <tr>\n",
       "      <th>11</th>\n",
       "      <td>2</td>\n",
       "      <td>3.163405</td>\n",
       "      <td>0</td>\n",
       "    </tr>\n",
       "    <tr>\n",
       "      <th>12</th>\n",
       "      <td>3</td>\n",
       "      <td>2.500000</td>\n",
       "      <td>0</td>\n",
       "    </tr>\n",
       "    <tr>\n",
       "      <th>13</th>\n",
       "      <td>3</td>\n",
       "      <td>2.316071</td>\n",
       "      <td>1</td>\n",
       "    </tr>\n",
       "    <tr>\n",
       "      <th>14</th>\n",
       "      <td>3</td>\n",
       "      <td>2.762206</td>\n",
       "      <td>0</td>\n",
       "    </tr>\n",
       "    <tr>\n",
       "      <th>15</th>\n",
       "      <td>3</td>\n",
       "      <td>3.701979</td>\n",
       "      <td>1</td>\n",
       "    </tr>\n",
       "    <tr>\n",
       "      <th>16</th>\n",
       "      <td>4</td>\n",
       "      <td>0.935319</td>\n",
       "      <td>0</td>\n",
       "    </tr>\n",
       "    <tr>\n",
       "      <th>17</th>\n",
       "      <td>4</td>\n",
       "      <td>2.091526</td>\n",
       "      <td>0</td>\n",
       "    </tr>\n",
       "    <tr>\n",
       "      <th>18</th>\n",
       "      <td>4</td>\n",
       "      <td>3.021503</td>\n",
       "      <td>0</td>\n",
       "    </tr>\n",
       "    <tr>\n",
       "      <th>19</th>\n",
       "      <td>4</td>\n",
       "      <td>4.090582</td>\n",
       "      <td>1</td>\n",
       "    </tr>\n",
       "  </tbody>\n",
       "</table>\n",
       "</div>"
      ],
      "text/plain": [
       "    id        c1  d1\n",
       "0    0  1.194418   0\n",
       "1    0  1.675329   0\n",
       "2    0  2.786574   0\n",
       "3    0  3.894432   0\n",
       "4    1  1.454316   0\n",
       "5    1  2.040868   0\n",
       "6    1  3.058112   1\n",
       "7    1  3.162493   0\n",
       "8    2  0.898410   0\n",
       "9    2  2.047398   0\n",
       "10   2  3.055161   1\n",
       "11   2  3.163405   0\n",
       "12   3  2.500000   0\n",
       "13   3  2.316071   1\n",
       "14   3  2.762206   0\n",
       "15   3  3.701979   1\n",
       "16   4  0.935319   0\n",
       "17   4  2.091526   0\n",
       "18   4  3.021503   0\n",
       "19   4  4.090582   1"
      ]
     },
     "execution_count": 12,
     "metadata": {},
     "output_type": "execute_result"
    }
   ],
   "source": [
    "# look at generated data\n",
    "model.sample(5)"
   ]
  },
  {
   "cell_type": "code",
   "execution_count": null,
   "id": "95f20010",
   "metadata": {},
   "outputs": [],
   "source": []
  },
  {
   "cell_type": "markdown",
   "id": "df3645db",
   "metadata": {},
   "source": [
    "# EHR-M-GAN implementation"
   ]
  },
  {
   "cell_type": "code",
   "execution_count": 42,
   "id": "fc19b6ca",
   "metadata": {},
   "outputs": [],
   "source": [
    "# needs python 3.7\n",
    "#!pip3 install pickle5\n",
    "#!pip uninstall tensorflow\n",
    "#pip install tensorflow==1.13.2 "
   ]
  },
  {
   "cell_type": "code",
   "execution_count": 35,
   "id": "533f48b2",
   "metadata": {},
   "outputs": [],
   "source": [
    "# navigate to ehrMGAN directory\n",
    "os.chdir('..')\n",
    "os.chdir('ehrMGAN')"
   ]
  },
  {
   "cell_type": "code",
   "execution_count": 34,
   "id": "b49656bd",
   "metadata": {},
   "outputs": [
    {
     "name": "stdout",
     "output_type": "stream",
     "text": [
      "start pretraining\n",
      "pretraining epoch 0\n",
      "pretraining epoch 1\n",
      "pretraining epoch 2\n",
      "pretraining epoch 3\n",
      "pretraining epoch 4\n",
      "pretraining epoch 5\n",
      "pretraining epoch 6\n",
      "pretraining epoch 7\n",
      "pretraining epoch 8\n",
      "pretraining epoch 9\n",
      "pretraining epoch 10\n",
      "pretraining epoch 11\n",
      "pretraining epoch 12\n",
      "pretraining epoch 13\n",
      "pretraining epoch 14\n",
      "pretraining epoch 15\n",
      "pretraining epoch 16\n",
      "pretraining epoch 17\n",
      "pretraining epoch 18\n",
      "pretraining epoch 19\n",
      "pretraining epoch 20\n",
      "pretraining epoch 21\n",
      "pretraining epoch 22\n",
      "pretraining epoch 23\n",
      "pretraining epoch 24\n",
      "pretraining epoch 25\n",
      "pretraining epoch 26\n",
      "pretraining epoch 27\n",
      "pretraining epoch 28\n",
      "pretraining epoch 29\n",
      "pretraining epoch 30\n",
      "pretraining epoch 31\n",
      "pretraining epoch 32\n",
      "pretraining epoch 33\n",
      "pretraining epoch 34\n",
      "pretraining epoch 35\n",
      "pretraining epoch 36\n",
      "pretraining epoch 37\n",
      "pretraining epoch 38\n",
      "pretraining epoch 39\n",
      "pretraining epoch 40\n",
      "pretraining epoch 41\n",
      "pretraining epoch 42\n",
      "pretraining epoch 43\n",
      "pretraining epoch 44\n",
      "pretraining epoch 45\n",
      "pretraining epoch 46\n",
      "pretraining epoch 47\n",
      "pretraining epoch 48\n",
      "pretraining epoch 49\n",
      "finish vae reconstructed data saving in pre-epoch 49\n",
      "finish the pretraining\n",
      "start joint training\n",
      "training epoch 0\n",
      "training epoch 1\n",
      "training epoch 2\n",
      "training epoch 3\n",
      "training epoch 4\n",
      "training epoch 5\n",
      "training epoch 6\n",
      "training epoch 7\n",
      "training epoch 8\n",
      "training epoch 9\n",
      "training epoch 10\n",
      "training epoch 11\n",
      "training epoch 12\n",
      "training epoch 13\n",
      "training epoch 14\n",
      "training epoch 15\n",
      "training epoch 16\n",
      "training epoch 17\n",
      "training epoch 18\n",
      "training epoch 19\n",
      "training epoch 20\n",
      "training epoch 21\n",
      "training epoch 22\n",
      "training epoch 23\n",
      "training epoch 24\n",
      "training epoch 25\n",
      "training epoch 26\n",
      "training epoch 27\n",
      "training epoch 28\n",
      "training epoch 29\n",
      "training epoch 30\n",
      "training epoch 31\n",
      "training epoch 32\n",
      "training epoch 33\n",
      "training epoch 34\n",
      "training epoch 35\n",
      "training epoch 36\n",
      "training epoch 37\n",
      "training epoch 38\n",
      "training epoch 39\n",
      "training epoch 40\n",
      "training epoch 41\n",
      "training epoch 42\n",
      "training epoch 43\n",
      "training epoch 44\n",
      "training epoch 45\n",
      "training epoch 46\n",
      "training epoch 47\n",
      "training epoch 48\n",
      "training epoch 49\n",
      "finish generated data saving in epoch 49\n"
     ]
    },
    {
     "ename": "FileNotFoundError",
     "evalue": "[Errno 2] No such file or directory: 'data/real/mimic/norm_stats.npz'",
     "output_type": "error",
     "traceback": [
      "\u001b[0;31m---------------------------------------------------------------------------\u001b[0m",
      "\u001b[0;31mFileNotFoundError\u001b[0m                         Traceback (most recent call last)",
      "\u001b[0;32m~/Desktop/genreportdata/ehrMGAN/main_train1.py\u001b[0m in \u001b[0;36m<module>\u001b[0;34m\u001b[0m\n\u001b[1;32m    169\u001b[0m     \u001b[0margs\u001b[0m \u001b[0;34m=\u001b[0m \u001b[0mparser\u001b[0m\u001b[0;34m.\u001b[0m\u001b[0mparse_args\u001b[0m\u001b[0;34m(\u001b[0m\u001b[0;34m)\u001b[0m\u001b[0;34m\u001b[0m\u001b[0;34m\u001b[0m\u001b[0m\n\u001b[1;32m    170\u001b[0m \u001b[0;34m\u001b[0m\u001b[0m\n\u001b[0;32m--> 171\u001b[0;31m     \u001b[0mmain\u001b[0m\u001b[0;34m(\u001b[0m\u001b[0margs\u001b[0m\u001b[0;34m)\u001b[0m\u001b[0;34m\u001b[0m\u001b[0;34m\u001b[0m\u001b[0m\n\u001b[0m",
      "\u001b[0;32m~/Desktop/genreportdata/ehrMGAN/main_train1.py\u001b[0m in \u001b[0;36mmain\u001b[0;34m(args)\u001b[0m\n\u001b[1;32m    106\u001b[0m \u001b[0;34m\u001b[0m\u001b[0m\n\u001b[1;32m    107\u001b[0m     \u001b[0;31m# renormalize\u001b[0m\u001b[0;34m\u001b[0m\u001b[0;34m\u001b[0m\u001b[0;34m\u001b[0m\u001b[0m\n\u001b[0;32m--> 108\u001b[0;31m     \u001b[0mmin_val_con\u001b[0m \u001b[0;34m=\u001b[0m \u001b[0mnp\u001b[0m\u001b[0;34m.\u001b[0m\u001b[0mload\u001b[0m\u001b[0;34m(\u001b[0m\u001b[0mos\u001b[0m\u001b[0;34m.\u001b[0m\u001b[0mpath\u001b[0m\u001b[0;34m.\u001b[0m\u001b[0mjoin\u001b[0m\u001b[0;34m(\u001b[0m\u001b[0;34m'data/real/'\u001b[0m\u001b[0;34m,\u001b[0m \u001b[0margs\u001b[0m\u001b[0;34m.\u001b[0m\u001b[0mdataset\u001b[0m\u001b[0;34m,\u001b[0m \u001b[0;34m\"norm_stats.npz\"\u001b[0m\u001b[0;34m)\u001b[0m\u001b[0;34m)\u001b[0m\u001b[0;34m[\u001b[0m\u001b[0;34m\"min_val\"\u001b[0m\u001b[0;34m]\u001b[0m\u001b[0;34m\u001b[0m\u001b[0;34m\u001b[0m\u001b[0m\n\u001b[0m\u001b[1;32m    109\u001b[0m     \u001b[0mmax_val_con\u001b[0m \u001b[0;34m=\u001b[0m \u001b[0mnp\u001b[0m\u001b[0;34m.\u001b[0m\u001b[0mload\u001b[0m\u001b[0;34m(\u001b[0m\u001b[0mos\u001b[0m\u001b[0;34m.\u001b[0m\u001b[0mpath\u001b[0m\u001b[0;34m.\u001b[0m\u001b[0mjoin\u001b[0m\u001b[0;34m(\u001b[0m\u001b[0;34m'data/real/'\u001b[0m\u001b[0;34m,\u001b[0m \u001b[0margs\u001b[0m\u001b[0;34m.\u001b[0m\u001b[0mdataset\u001b[0m\u001b[0;34m,\u001b[0m \u001b[0;34m\"norm_stats.npz\"\u001b[0m\u001b[0;34m)\u001b[0m\u001b[0;34m)\u001b[0m\u001b[0;34m[\u001b[0m\u001b[0;34m\"max_val\"\u001b[0m\u001b[0;34m]\u001b[0m\u001b[0;34m\u001b[0m\u001b[0;34m\u001b[0m\u001b[0m\n\u001b[1;32m    110\u001b[0m     \u001b[0mc_gen_data_renorm\u001b[0m \u001b[0;34m=\u001b[0m \u001b[0mrenormlizer\u001b[0m\u001b[0;34m(\u001b[0m\u001b[0mc_gen_data\u001b[0m\u001b[0;34m,\u001b[0m \u001b[0mmax_val_con\u001b[0m\u001b[0;34m,\u001b[0m \u001b[0mmin_val_con\u001b[0m\u001b[0;34m)\u001b[0m\u001b[0;34m\u001b[0m\u001b[0;34m\u001b[0m\u001b[0m\n",
      "\u001b[0;32m~/opt/anaconda3/envs/py37/lib/python3.7/site-packages/numpy/lib/npyio.py\u001b[0m in \u001b[0;36mload\u001b[0;34m(file, mmap_mode, allow_pickle, fix_imports, encoding)\u001b[0m\n\u001b[1;32m    415\u001b[0m             \u001b[0mown_fid\u001b[0m \u001b[0;34m=\u001b[0m \u001b[0;32mFalse\u001b[0m\u001b[0;34m\u001b[0m\u001b[0;34m\u001b[0m\u001b[0m\n\u001b[1;32m    416\u001b[0m         \u001b[0;32melse\u001b[0m\u001b[0;34m:\u001b[0m\u001b[0;34m\u001b[0m\u001b[0;34m\u001b[0m\u001b[0m\n\u001b[0;32m--> 417\u001b[0;31m             \u001b[0mfid\u001b[0m \u001b[0;34m=\u001b[0m \u001b[0mstack\u001b[0m\u001b[0;34m.\u001b[0m\u001b[0menter_context\u001b[0m\u001b[0;34m(\u001b[0m\u001b[0mopen\u001b[0m\u001b[0;34m(\u001b[0m\u001b[0mos_fspath\u001b[0m\u001b[0;34m(\u001b[0m\u001b[0mfile\u001b[0m\u001b[0;34m)\u001b[0m\u001b[0;34m,\u001b[0m \u001b[0;34m\"rb\"\u001b[0m\u001b[0;34m)\u001b[0m\u001b[0;34m)\u001b[0m\u001b[0;34m\u001b[0m\u001b[0;34m\u001b[0m\u001b[0m\n\u001b[0m\u001b[1;32m    418\u001b[0m             \u001b[0mown_fid\u001b[0m \u001b[0;34m=\u001b[0m \u001b[0;32mTrue\u001b[0m\u001b[0;34m\u001b[0m\u001b[0;34m\u001b[0m\u001b[0m\n\u001b[1;32m    419\u001b[0m \u001b[0;34m\u001b[0m\u001b[0m\n",
      "\u001b[0;31mFileNotFoundError\u001b[0m: [Errno 2] No such file or directory: 'data/real/mimic/norm_stats.npz'"
     ]
    }
   ],
   "source": [
    "%run -i 'main_train1.py' --dataset mimic --num_pre_epochs 50 --num_epochs 50 --epoch_ckpt_freq 50"
   ]
  },
  {
   "cell_type": "code",
   "execution_count": 37,
   "id": "d180a7d3",
   "metadata": {},
   "outputs": [
    {
     "name": "stdout",
     "output_type": "stream",
     "text": [
      "[[0.261321  ]\n",
      " [0.2884156 ]\n",
      " [0.67058027]\n",
      " [0.99934363]]\n",
      "[[0.]\n",
      " [0.]\n",
      " [0.]\n",
      " [1.]]\n"
     ]
    }
   ],
   "source": [
    "# read in output\n",
    "gen_data =  np.load('data/fake/epoch4/gen_data.npz')\n",
    "print(gen_data['c_gen_data'][1])\n",
    "print(gen_data['d_gen_data'][1])"
   ]
  },
  {
   "cell_type": "code",
   "execution_count": 38,
   "id": "b7595e11",
   "metadata": {},
   "outputs": [],
   "source": [
    "# ehrmgan gives noramlised data...\n",
    "# continuous data is scaled to be within the range of the data\n",
    "e = gen_data['c_gen_data'][1]"
   ]
  },
  {
   "cell_type": "code",
   "execution_count": 39,
   "id": "6336f058",
   "metadata": {},
   "outputs": [
    {
     "data": {
      "text/plain": [
       "array([[0.261321  ],\n",
       "       [0.2884156 ],\n",
       "       [0.67058027],\n",
       "       [0.99934363]], dtype=float32)"
      ]
     },
     "execution_count": 39,
     "metadata": {},
     "output_type": "execute_result"
    }
   ],
   "source": [
    "e"
   ]
  },
  {
   "cell_type": "code",
   "execution_count": 40,
   "id": "80276295",
   "metadata": {},
   "outputs": [],
   "source": [
    "scaled = []\n",
    "for x in e: scaled.append(x*4)"
   ]
  },
  {
   "cell_type": "code",
   "execution_count": 41,
   "id": "e46231c0",
   "metadata": {},
   "outputs": [
    {
     "name": "stdout",
     "output_type": "stream",
     "text": [
      "[array([1.045284], dtype=float32), array([1.1536624], dtype=float32), array([2.682321], dtype=float32), array([3.9973745], dtype=float32)]\n"
     ]
    }
   ],
   "source": [
    "print(scaled)"
   ]
  },
  {
   "cell_type": "code",
   "execution_count": null,
   "id": "d9a909b1",
   "metadata": {},
   "outputs": [],
   "source": []
  }
 ],
 "metadata": {
  "kernelspec": {
   "display_name": "Python 3 (ipykernel)",
   "language": "python",
   "name": "python3"
  },
  "language_info": {
   "codemirror_mode": {
    "name": "ipython",
    "version": 3
   },
   "file_extension": ".py",
   "mimetype": "text/x-python",
   "name": "python",
   "nbconvert_exporter": "python",
   "pygments_lexer": "ipython3",
   "version": "3.9.16"
  }
 },
 "nbformat": 4,
 "nbformat_minor": 5
}
