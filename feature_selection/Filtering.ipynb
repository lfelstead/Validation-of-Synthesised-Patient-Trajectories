{
 "cells": [
  {
   "cell_type": "code",
   "execution_count": 34,
   "id": "1136914b",
   "metadata": {},
   "outputs": [],
   "source": [
    "import pandas as pd\n",
    "import numpy as np\n",
    "import matplotlib.pyplot as plt"
   ]
  },
  {
   "cell_type": "code",
   "execution_count": 58,
   "id": "4e6b8117",
   "metadata": {},
   "outputs": [],
   "source": [
    "# read in original data\n",
    "data = pd.read_csv(\"ungroupedLabData_train.csv\")"
   ]
  },
  {
   "cell_type": "code",
   "execution_count": 63,
   "id": "7432ad56",
   "metadata": {},
   "outputs": [],
   "source": [
    "keep = pd.read_csv(\"guidelines.csv\")"
   ]
  },
  {
   "cell_type": "code",
   "execution_count": 87,
   "id": "2883fb5a",
   "metadata": {},
   "outputs": [],
   "source": [
    "group = []\n",
    "for item in list(set(data[\"label1\"])):\n",
    "    found = False\n",
    "    for k in keep.values.tolist():\n",
    "        if k[0] in item.lower():\n",
    "            group.append([item, 1])\n",
    "            found = True\n",
    "    if not found:\n",
    "        group.append([item, 0])"
   ]
  },
  {
   "cell_type": "code",
   "execution_count": 88,
   "id": "4c894a98",
   "metadata": {},
   "outputs": [
    {
     "data": {
      "text/html": [
       "<div>\n",
       "<style scoped>\n",
       "    .dataframe tbody tr th:only-of-type {\n",
       "        vertical-align: middle;\n",
       "    }\n",
       "\n",
       "    .dataframe tbody tr th {\n",
       "        vertical-align: top;\n",
       "    }\n",
       "\n",
       "    .dataframe thead th {\n",
       "        text-align: right;\n",
       "    }\n",
       "</style>\n",
       "<table border=\"1\" class=\"dataframe\">\n",
       "  <thead>\n",
       "    <tr style=\"text-align: right;\">\n",
       "      <th></th>\n",
       "      <th>event</th>\n",
       "      <th>group</th>\n",
       "    </tr>\n",
       "  </thead>\n",
       "  <tbody>\n",
       "    <tr>\n",
       "      <th>0</th>\n",
       "      <td>troponin t Blood</td>\n",
       "      <td>0</td>\n",
       "    </tr>\n",
       "    <tr>\n",
       "      <th>1</th>\n",
       "      <td>ntprobnp Blood</td>\n",
       "      <td>0</td>\n",
       "    </tr>\n",
       "    <tr>\n",
       "      <th>2</th>\n",
       "      <td>h Blood</td>\n",
       "      <td>0</td>\n",
       "    </tr>\n",
       "    <tr>\n",
       "      <th>3</th>\n",
       "      <td>hypochromia Blood</td>\n",
       "      <td>0</td>\n",
       "    </tr>\n",
       "    <tr>\n",
       "      <th>4</th>\n",
       "      <td>alveolar-arterial gradient Blood</td>\n",
       "      <td>0</td>\n",
       "    </tr>\n",
       "    <tr>\n",
       "      <th>...</th>\n",
       "      <td>...</td>\n",
       "      <td>...</td>\n",
       "    </tr>\n",
       "    <tr>\n",
       "      <th>231</th>\n",
       "      <td>white blood cells Blood</td>\n",
       "      <td>1</td>\n",
       "    </tr>\n",
       "    <tr>\n",
       "      <th>232</th>\n",
       "      <td>bilirubin indirect Blood</td>\n",
       "      <td>1</td>\n",
       "    </tr>\n",
       "    <tr>\n",
       "      <th>233</th>\n",
       "      <td>urine appearance Urine</td>\n",
       "      <td>0</td>\n",
       "    </tr>\n",
       "    <tr>\n",
       "      <th>234</th>\n",
       "      <td>calcium total Blood</td>\n",
       "      <td>1</td>\n",
       "    </tr>\n",
       "    <tr>\n",
       "      <th>235</th>\n",
       "      <td>immature granulocytes Blood</td>\n",
       "      <td>0</td>\n",
       "    </tr>\n",
       "  </tbody>\n",
       "</table>\n",
       "<p>236 rows × 2 columns</p>\n",
       "</div>"
      ],
      "text/plain": [
       "                                event  group\n",
       "0                    troponin t Blood      0\n",
       "1                      ntprobnp Blood      0\n",
       "2                             h Blood      0\n",
       "3                   hypochromia Blood      0\n",
       "4    alveolar-arterial gradient Blood      0\n",
       "..                                ...    ...\n",
       "231           white blood cells Blood      1\n",
       "232          bilirubin indirect Blood      1\n",
       "233            urine appearance Urine      0\n",
       "234               calcium total Blood      1\n",
       "235       immature granulocytes Blood      0\n",
       "\n",
       "[236 rows x 2 columns]"
      ]
     },
     "execution_count": 88,
     "metadata": {},
     "output_type": "execute_result"
    }
   ],
   "source": [
    "df = pd.DataFrame(group, columns=[\"event\", \"group\"])\n",
    "df    "
   ]
  },
  {
   "cell_type": "code",
   "execution_count": 89,
   "id": "62fdf29f",
   "metadata": {},
   "outputs": [
    {
     "data": {
      "text/html": [
       "<div>\n",
       "<style scoped>\n",
       "    .dataframe tbody tr th:only-of-type {\n",
       "        vertical-align: middle;\n",
       "    }\n",
       "\n",
       "    .dataframe tbody tr th {\n",
       "        vertical-align: top;\n",
       "    }\n",
       "\n",
       "    .dataframe thead th {\n",
       "        text-align: right;\n",
       "    }\n",
       "</style>\n",
       "<table border=\"1\" class=\"dataframe\">\n",
       "  <thead>\n",
       "    <tr style=\"text-align: right;\">\n",
       "      <th></th>\n",
       "      <th>event</th>\n",
       "      <th>group</th>\n",
       "    </tr>\n",
       "  </thead>\n",
       "  <tbody>\n",
       "    <tr>\n",
       "      <th>0</th>\n",
       "      <td>troponin t Blood</td>\n",
       "      <td>0</td>\n",
       "    </tr>\n",
       "    <tr>\n",
       "      <th>1</th>\n",
       "      <td>ntprobnp Blood</td>\n",
       "      <td>0</td>\n",
       "    </tr>\n",
       "    <tr>\n",
       "      <th>2</th>\n",
       "      <td>h Blood</td>\n",
       "      <td>0</td>\n",
       "    </tr>\n",
       "    <tr>\n",
       "      <th>3</th>\n",
       "      <td>hypochromia Blood</td>\n",
       "      <td>0</td>\n",
       "    </tr>\n",
       "    <tr>\n",
       "      <th>4</th>\n",
       "      <td>alveolar-arterial gradient Blood</td>\n",
       "      <td>0</td>\n",
       "    </tr>\n",
       "    <tr>\n",
       "      <th>...</th>\n",
       "      <td>...</td>\n",
       "      <td>...</td>\n",
       "    </tr>\n",
       "    <tr>\n",
       "      <th>231</th>\n",
       "      <td>white blood cells Blood</td>\n",
       "      <td>1</td>\n",
       "    </tr>\n",
       "    <tr>\n",
       "      <th>232</th>\n",
       "      <td>bilirubin indirect Blood</td>\n",
       "      <td>1</td>\n",
       "    </tr>\n",
       "    <tr>\n",
       "      <th>233</th>\n",
       "      <td>urine appearance Urine</td>\n",
       "      <td>0</td>\n",
       "    </tr>\n",
       "    <tr>\n",
       "      <th>234</th>\n",
       "      <td>calcium total Blood</td>\n",
       "      <td>1</td>\n",
       "    </tr>\n",
       "    <tr>\n",
       "      <th>235</th>\n",
       "      <td>immature granulocytes Blood</td>\n",
       "      <td>0</td>\n",
       "    </tr>\n",
       "  </tbody>\n",
       "</table>\n",
       "<p>236 rows × 2 columns</p>\n",
       "</div>"
      ],
      "text/plain": [
       "                                event  group\n",
       "0                    troponin t Blood      0\n",
       "1                      ntprobnp Blood      0\n",
       "2                             h Blood      0\n",
       "3                   hypochromia Blood      0\n",
       "4    alveolar-arterial gradient Blood      0\n",
       "..                                ...    ...\n",
       "231           white blood cells Blood      1\n",
       "232          bilirubin indirect Blood      1\n",
       "233            urine appearance Urine      0\n",
       "234               calcium total Blood      1\n",
       "235       immature granulocytes Blood      0\n",
       "\n",
       "[236 rows x 2 columns]"
      ]
     },
     "execution_count": 89,
     "metadata": {},
     "output_type": "execute_result"
    }
   ],
   "source": [
    "df = pd.DataFrame(group, columns=[\"event\", \"group\"])\n",
    "df    "
   ]
  },
  {
   "cell_type": "code",
   "execution_count": 90,
   "id": "4a19f728",
   "metadata": {},
   "outputs": [],
   "source": [
    "df.to_csv(\"guide.csv\",index=False)"
   ]
  },
  {
   "cell_type": "code",
   "execution_count": 4,
   "id": "c5524e20",
   "metadata": {},
   "outputs": [
    {
     "data": {
      "text/plain": [
       "230"
      ]
     },
     "execution_count": 4,
     "metadata": {},
     "output_type": "execute_result"
    }
   ],
   "source": [
    "len(set(data[\"label1\"]))"
   ]
  },
  {
   "cell_type": "code",
   "execution_count": 36,
   "id": "ead1e263",
   "metadata": {},
   "outputs": [
    {
     "data": {
      "text/plain": [
       "46"
      ]
     },
     "execution_count": 36,
     "metadata": {},
     "output_type": "execute_result"
    }
   ],
   "source": [
    "# 20% most common events\n",
    "n = int(230*0.2)\n",
    "n"
   ]
  },
  {
   "cell_type": "code",
   "execution_count": 37,
   "id": "9283a84c",
   "metadata": {},
   "outputs": [],
   "source": [
    "freqevents = data[\"label1\"].value_counts()[:n].index"
   ]
  },
  {
   "cell_type": "code",
   "execution_count": 40,
   "id": "93712e68",
   "metadata": {},
   "outputs": [],
   "source": [
    "groupedlist = []\n",
    "for index in range(len(freqevents)):\n",
    "    groupedlist.append(freqevents[index])"
   ]
  },
  {
   "cell_type": "code",
   "execution_count": null,
   "id": "552c611c",
   "metadata": {},
   "outputs": [],
   "source": []
  },
  {
   "cell_type": "code",
   "execution_count": 41,
   "id": "c612bdf8",
   "metadata": {},
   "outputs": [
    {
     "data": {
      "text/plain": [
       "['glucose Blood',\n",
       " 'hemoglobin Blood',\n",
       " 'ph Blood',\n",
       " 'calculated total co2 Blood',\n",
       " 'po2 Blood',\n",
       " 'base excess Blood',\n",
       " 'pco2 Blood',\n",
       " 'hematocrit Blood',\n",
       " 'potassium whole blood Blood',\n",
       " 'potassium Blood',\n",
       " 'chloride Blood',\n",
       " 'platelet count Blood',\n",
       " 'free calcium Blood',\n",
       " 'sodium Blood',\n",
       " 'white blood cells Blood',\n",
       " 'mchc Blood',\n",
       " 'mch Blood',\n",
       " 'mcv Blood',\n",
       " 'red blood cells Blood',\n",
       " 'rdw Blood',\n",
       " 'creatinine Blood',\n",
       " 'urea nitrogen Blood',\n",
       " 'bicarbonate Blood',\n",
       " 'anion gap Blood',\n",
       " 'magnesium Blood',\n",
       " 'hematocrit calculated Blood',\n",
       " 'lactate Blood',\n",
       " 'inr(pt) Blood',\n",
       " 'pt Blood',\n",
       " 'oxygen saturation Blood',\n",
       " 'ptt Blood',\n",
       " 'sodium whole blood Blood',\n",
       " 'chloride whole blood Blood',\n",
       " 'phosphate Blood',\n",
       " 'calcium total Blood',\n",
       " 'rdw-sd Blood',\n",
       " 'estimated gfr (mdrd equation) Blood',\n",
       " 'fibrinogen functional Blood',\n",
       " 'l Blood',\n",
       " 'i Blood',\n",
       " 'h Blood',\n",
       " 'temperature Blood',\n",
       " 'basophils Blood',\n",
       " 'neutrophils Blood',\n",
       " 'monocytes Blood',\n",
       " 'lymphocytes Blood']"
      ]
     },
     "execution_count": 41,
     "metadata": {},
     "output_type": "execute_result"
    }
   ],
   "source": [
    "groupedlist"
   ]
  },
  {
   "cell_type": "code",
   "execution_count": 55,
   "id": "6941933b",
   "metadata": {},
   "outputs": [],
   "source": [
    "group = []\n",
    "for item in list(set(data[\"label1\"])):\n",
    "    if item in groupitems:\n",
    "        group.append([item, 1])\n",
    "    else:\n",
    "        group.append([item, 0])"
   ]
  },
  {
   "cell_type": "code",
   "execution_count": 56,
   "id": "6f64749e",
   "metadata": {},
   "outputs": [
    {
     "data": {
      "text/html": [
       "<div>\n",
       "<style scoped>\n",
       "    .dataframe tbody tr th:only-of-type {\n",
       "        vertical-align: middle;\n",
       "    }\n",
       "\n",
       "    .dataframe tbody tr th {\n",
       "        vertical-align: top;\n",
       "    }\n",
       "\n",
       "    .dataframe thead th {\n",
       "        text-align: right;\n",
       "    }\n",
       "</style>\n",
       "<table border=\"1\" class=\"dataframe\">\n",
       "  <thead>\n",
       "    <tr style=\"text-align: right;\">\n",
       "      <th></th>\n",
       "      <th>event</th>\n",
       "      <th>group</th>\n",
       "    </tr>\n",
       "  </thead>\n",
       "  <tbody>\n",
       "    <tr>\n",
       "      <th>0</th>\n",
       "      <td>troponin t Blood</td>\n",
       "      <td>0</td>\n",
       "    </tr>\n",
       "    <tr>\n",
       "      <th>1</th>\n",
       "      <td>ntprobnp Blood</td>\n",
       "      <td>0</td>\n",
       "    </tr>\n",
       "    <tr>\n",
       "      <th>2</th>\n",
       "      <td>h Blood</td>\n",
       "      <td>0</td>\n",
       "    </tr>\n",
       "    <tr>\n",
       "      <th>3</th>\n",
       "      <td>hypochromia Blood</td>\n",
       "      <td>0</td>\n",
       "    </tr>\n",
       "    <tr>\n",
       "      <th>4</th>\n",
       "      <td>alveolar-arterial gradient Blood</td>\n",
       "      <td>0</td>\n",
       "    </tr>\n",
       "    <tr>\n",
       "      <th>...</th>\n",
       "      <td>...</td>\n",
       "      <td>...</td>\n",
       "    </tr>\n",
       "    <tr>\n",
       "      <th>225</th>\n",
       "      <td>white blood cells Blood</td>\n",
       "      <td>1</td>\n",
       "    </tr>\n",
       "    <tr>\n",
       "      <th>226</th>\n",
       "      <td>bilirubin indirect Blood</td>\n",
       "      <td>0</td>\n",
       "    </tr>\n",
       "    <tr>\n",
       "      <th>227</th>\n",
       "      <td>urine appearance Urine</td>\n",
       "      <td>0</td>\n",
       "    </tr>\n",
       "    <tr>\n",
       "      <th>228</th>\n",
       "      <td>calcium total Blood</td>\n",
       "      <td>0</td>\n",
       "    </tr>\n",
       "    <tr>\n",
       "      <th>229</th>\n",
       "      <td>immature granulocytes Blood</td>\n",
       "      <td>0</td>\n",
       "    </tr>\n",
       "  </tbody>\n",
       "</table>\n",
       "<p>230 rows × 2 columns</p>\n",
       "</div>"
      ],
      "text/plain": [
       "                                event  group\n",
       "0                    troponin t Blood      0\n",
       "1                      ntprobnp Blood      0\n",
       "2                             h Blood      0\n",
       "3                   hypochromia Blood      0\n",
       "4    alveolar-arterial gradient Blood      0\n",
       "..                                ...    ...\n",
       "225           white blood cells Blood      1\n",
       "226          bilirubin indirect Blood      0\n",
       "227            urine appearance Urine      0\n",
       "228               calcium total Blood      0\n",
       "229       immature granulocytes Blood      0\n",
       "\n",
       "[230 rows x 2 columns]"
      ]
     },
     "execution_count": 56,
     "metadata": {},
     "output_type": "execute_result"
    }
   ],
   "source": [
    "df = pd.DataFrame(group, columns=[\"event\", \"group\"])\n",
    "df    "
   ]
  },
  {
   "cell_type": "code",
   "execution_count": 57,
   "id": "3c44d3de",
   "metadata": {},
   "outputs": [],
   "source": [
    "df.to_csv(\"filter80.csv\",index=False)"
   ]
  },
  {
   "cell_type": "code",
   "execution_count": null,
   "id": "2f033f64",
   "metadata": {},
   "outputs": [],
   "source": []
  },
  {
   "cell_type": "code",
   "execution_count": 17,
   "id": "7ce4592e",
   "metadata": {},
   "outputs": [],
   "source": [
    "df = pd.DataFrame(groupedlist)\n",
    "df.to_csv('filterfirst20eventgroups.csv', index=False)"
   ]
  },
  {
   "cell_type": "code",
   "execution_count": 59,
   "id": "2ccab947",
   "metadata": {},
   "outputs": [],
   "source": [
    "newdata = data[data[\"label1\"].isin(list(freqevents))]"
   ]
  },
  {
   "cell_type": "code",
   "execution_count": 60,
   "id": "19c8fff7",
   "metadata": {},
   "outputs": [],
   "source": [
    "newdata.to_csv('filterfirst20eventdata.csv', index=False)"
   ]
  },
  {
   "cell_type": "code",
   "execution_count": null,
   "id": "a498f87d",
   "metadata": {},
   "outputs": [],
   "source": []
  },
  {
   "cell_type": "code",
   "execution_count": null,
   "id": "581d3011",
   "metadata": {},
   "outputs": [],
   "source": [
    "# covers 80% of all events"
   ]
  },
  {
   "cell_type": "code",
   "execution_count": 47,
   "id": "7471324f",
   "metadata": {},
   "outputs": [],
   "source": [
    "freqevents = data[\"label1\"].value_counts()"
   ]
  },
  {
   "cell_type": "code",
   "execution_count": 48,
   "id": "e10210a7",
   "metadata": {},
   "outputs": [
    {
     "data": {
      "text/plain": [
       "label1\n",
       "glucose Blood                       10185\n",
       "hemoglobin Blood                     8403\n",
       "ph Blood                             8067\n",
       "calculated total co2 Blood           7045\n",
       "po2 Blood                            7045\n",
       "                                    ...  \n",
       "bite cells Blood                        1\n",
       "lymphocytes Joint Fluid                 1\n",
       "joint crystals shape Joint Fluid        1\n",
       "rbc joint fluid Joint Fluid             1\n",
       "renal epithelial cells Urine            1\n",
       "Name: count, Length: 230, dtype: int64"
      ]
     },
     "execution_count": 48,
     "metadata": {},
     "output_type": "execute_result"
    }
   ],
   "source": [
    "freqevents"
   ]
  },
  {
   "cell_type": "code",
   "execution_count": 50,
   "id": "90b551e7",
   "metadata": {},
   "outputs": [],
   "source": [
    "freqevents = freqevents.reset_index()"
   ]
  },
  {
   "cell_type": "code",
   "execution_count": 49,
   "id": "25754d28",
   "metadata": {},
   "outputs": [
    {
     "data": {
      "text/plain": [
       "150420.0"
      ]
     },
     "execution_count": 49,
     "metadata": {},
     "output_type": "execute_result"
    }
   ],
   "source": [
    "n = sum(freqevents.values)*0.8\n",
    "n"
   ]
  },
  {
   "cell_type": "code",
   "execution_count": 51,
   "id": "6209983c",
   "metadata": {},
   "outputs": [
    {
     "data": {
      "text/plain": [
       "[['glucose Blood', 10185],\n",
       " ['hemoglobin Blood', 8403],\n",
       " ['ph Blood', 8067],\n",
       " ['calculated total co2 Blood', 7045],\n",
       " ['po2 Blood', 7045],\n",
       " ['base excess Blood', 7045],\n",
       " ['pco2 Blood', 7045],\n",
       " ['hematocrit Blood', 6646],\n",
       " ['potassium whole blood Blood', 5835],\n",
       " ['potassium Blood', 5658],\n",
       " ['chloride Blood', 5489],\n",
       " ['platelet count Blood', 5280],\n",
       " ['free calcium Blood', 5275],\n",
       " ['sodium Blood', 5245],\n",
       " ['white blood cells Blood', 5200],\n",
       " ['mchc Blood', 5172],\n",
       " ['mch Blood', 5170],\n",
       " ['mcv Blood', 5170],\n",
       " ['red blood cells Blood', 5170],\n",
       " ['rdw Blood', 5169],\n",
       " ['creatinine Blood', 4967],\n",
       " ['urea nitrogen Blood', 4959],\n",
       " ['bicarbonate Blood', 4496],\n",
       " ['anion gap Blood', 4266],\n",
       " ['magnesium Blood', 4139],\n",
       " ['hematocrit calculated Blood', 3251],\n",
       " ['lactate Blood', 3040],\n",
       " ['inr(pt) Blood', 2985],\n",
       " ['pt Blood', 2985],\n",
       " ['oxygen saturation Blood', 2716],\n",
       " ['ptt Blood', 2681],\n",
       " ['sodium whole blood Blood', 2462],\n",
       " ['chloride whole blood Blood', 1691],\n",
       " ['phosphate Blood', 1642],\n",
       " ['calcium total Blood', 1560],\n",
       " ['rdw-sd Blood', 795],\n",
       " ['estimated gfr (mdrd equation) Blood', 777],\n",
       " ['fibrinogen functional Blood', 687],\n",
       " ['l Blood', 504],\n",
       " ['i Blood', 504],\n",
       " ['h Blood', 504],\n",
       " ['temperature Blood', 375],\n",
       " ['basophils Blood', 349],\n",
       " ['neutrophils Blood', 349],\n",
       " ['monocytes Blood', 349],\n",
       " ['lymphocytes Blood', 349],\n",
       " ['eosinophils Blood', 349],\n",
       " ['alanine aminotransferase (alt) Blood', 312],\n",
       " ['asparate aminotransferase (ast) Blood', 309],\n",
       " ['alkaline phosphatase Blood', 301],\n",
       " ['bilirubin total Blood', 301],\n",
       " ['specific gravity Urine', 294],\n",
       " ['bilirubin Urine', 294],\n",
       " ['blood Urine', 294],\n",
       " ['urobilinogen Urine', 294],\n",
       " ['glucose Urine', 294],\n",
       " ['leukocytes Urine', 294],\n",
       " ['urine color Urine', 294],\n",
       " ['protein Urine', 294],\n",
       " ['nitrite Urine', 294],\n",
       " ['ketone Urine', 294],\n",
       " ['ph Urine', 294],\n",
       " ['urine appearance Urine', 294],\n",
       " ['amylase Blood', 233],\n",
       " ['oxygen Blood', 222],\n",
       " ['lipase Blood', 221],\n",
       " ['lactate dehydrogenase (ld) Blood', 204],\n",
       " ['albumin Blood', 186],\n",
       " ['epithelial cells Urine', 184],\n",
       " ['yeast Urine', 184],\n",
       " ['bacteria Urine', 184],\n",
       " ['wbc Urine', 184],\n",
       " ['rbc Urine', 184],\n",
       " ['platelet smear Blood', 145],\n",
       " ['urine mucous Urine', 110],\n",
       " ['absolute eosinophil count Blood', 103],\n",
       " ['absolute neutrophil count Blood', 103],\n",
       " ['absolute basophil count Blood', 103],\n",
       " ['absolute lymphocyte count Blood', 103],\n",
       " ['absolute monocyte count Blood', 103],\n",
       " ['immature granulocytes Blood', 97],\n",
       " ['hyaline casts Urine', 72],\n",
       " ['vancomycin Blood', 56],\n",
       " ['creatine kinase (ck) Blood', 53],\n",
       " ['length of urine collection Urine', 43],\n",
       " ['% hemoglobin a1c Blood', 43],\n",
       " ['hypochromia Blood', 39],\n",
       " ['macrocytes Blood', 39],\n",
       " ['microcytes Blood', 39],\n",
       " ['anisocytosis Blood', 39],\n",
       " ['poikilocytosis Blood', 39],\n",
       " ['polychromasia Blood', 39],\n",
       " ['creatine kinase mb isoenzyme Blood', 38],\n",
       " ['required o2 Blood', 36],\n",
       " ['alveolar-arterial gradient Blood', 36],\n",
       " ['bands Blood', 35],\n",
       " ['eag Blood', 30],\n",
       " ['myelocytes Blood', 28],\n",
       " ['metamyelocytes Blood', 28],\n",
       " ['atypical lymphocytes Blood', 28],\n",
       " ['hepatitis c virus antibody Blood', 27],\n",
       " ['transitional epithelial cells Urine', 26],\n",
       " ['troponin t Blood', 25],\n",
       " ['creatinine urine Urine', 24],\n",
       " ['o2 flow Blood', 23],\n",
       " ['thyroid stimulating hormone Blood', 22],\n",
       " ['calculated bicarbonate whole blood Blood', 22],\n",
       " ['sodium urine Urine', 20],\n",
       " ['hepatitis b surface antigen Blood', 18],\n",
       " ['osmolality urine Urine', 17],\n",
       " ['potassium urine Urine', 17],\n",
       " ['echinocytes Blood', 14],\n",
       " ['hiv screen Blood', 14],\n",
       " ['amorphous crystals Urine', 14],\n",
       " ['chloride urine Urine', 14],\n",
       " ['nucleated red cells Blood', 13],\n",
       " ['ovalocytes Blood', 12],\n",
       " ['ck-mb index Blood', 12],\n",
       " ['urea nitrogen urine Urine', 12],\n",
       " ['uhold Urine', 9],\n",
       " ['bilirubin indirect Blood', 9],\n",
       " ['bilirubin direct Blood', 9],\n",
       " ['uric acid Blood', 7],\n",
       " ['thyroxine (t4) Blood', 7],\n",
       " ['cortisol Blood', 6],\n",
       " ['reticulocyte count automated Blood', 6],\n",
       " ['hepatitis b virus core antibody Blood', 6],\n",
       " ['total protein urine Urine', 6],\n",
       " ['hepatitis b surface antibody Blood', 6],\n",
       " ['inpatient hematology/oncology smear Blood', 6],\n",
       " ['iron Blood', 6],\n",
       " ['protein/creatinine ratio Urine', 6],\n",
       " ['schistocytes Blood', 5],\n",
       " ['triiodothyronine (t3) Blood', 5],\n",
       " ['granular casts Urine', 5],\n",
       " ['phenytoin Blood', 5],\n",
       " ['vitamin b12 Blood', 4],\n",
       " ['hpe1 Blood', 4],\n",
       " ['arch-1 Blood', 4],\n",
       " ['transferrin Blood', 4],\n",
       " ['c-reactive protein Blood', 4],\n",
       " ['teardrop cells Blood', 4],\n",
       " ['haptoglobin Blood', 4],\n",
       " ['iron binding capacity total Blood', 4],\n",
       " ['albumin urine Urine', 3],\n",
       " ['albumin/creatinine urine Urine', 3],\n",
       " ['uric acid crystals Urine', 3],\n",
       " ['carboxyhemoglobin Blood', 3],\n",
       " ['folate Blood', 3],\n",
       " ['hpe7 Blood', 3],\n",
       " ['ferritin Blood', 3],\n",
       " ['digoxin Blood', 3],\n",
       " ['sedimentation rate Blood', 3],\n",
       " ['lithium Blood', 3],\n",
       " ['large platelets Blood', 2],\n",
       " ['triglycerides Blood', 2],\n",
       " ['osmolality measured Blood', 2],\n",
       " ['calculated thyroxine (t4) index Blood', 2],\n",
       " ['calcium urine Urine', 2],\n",
       " ['wbc clumps Urine', 2],\n",
       " ['pencil cells Blood', 2],\n",
       " ['uric acid urine Urine', 2],\n",
       " ['cholesterol ratio (total/hdl) Blood', 2],\n",
       " ['anticardiolipin antibody igg Blood', 2],\n",
       " ['ntprobnp Blood', 2],\n",
       " ['magnesium urine Urine', 2],\n",
       " ['calculated tbg Blood', 2],\n",
       " ['parathyroid hormone Blood', 2],\n",
       " ['ammonia Blood', 2],\n",
       " ['uptake ratio Blood', 2],\n",
       " ['cyclosporin Blood', 2],\n",
       " ['eosinophils Urine', 2],\n",
       " ['thyroxine (t4) free Blood', 2],\n",
       " ['cholesterol total Blood', 2],\n",
       " ['cholesterol hdl Blood', 2],\n",
       " ['cholesterol ldl calculated Blood', 2],\n",
       " ['anticardiolipin antibody igm Blood', 2],\n",
       " ['eosinophils Ascites', 1],\n",
       " ['joint crystals birefringence Joint Fluid', 1],\n",
       " ['total protein pleural Pleural', 1],\n",
       " ['rbc clumps Urine', 1],\n",
       " ['other cells Blood', 1],\n",
       " ['lymphocytes Other Body Fluid', 1],\n",
       " ['total nucleated cells other Other Body Fluid', 1],\n",
       " ['polys Ascites', 1],\n",
       " ['mesothelial cell Ascites', 1],\n",
       " ['pappenheimer bodies Blood', 1],\n",
       " ['methemoglobin Blood', 1],\n",
       " ['lactate dehydrogenase pleural Pleural', 1],\n",
       " ['free kappa/free lambda ratio Blood', 1],\n",
       " ['joint crystals comment Joint Fluid', 1],\n",
       " ['platelet clumps Blood', 1],\n",
       " ['globulin Blood', 1],\n",
       " ['sperm Urine', 1],\n",
       " ['phosphate urine Urine', 1],\n",
       " ['total nucleated cells ascites Ascites', 1],\n",
       " ['polys Other Body Fluid', 1],\n",
       " ['monocytes Joint Fluid', 1],\n",
       " ['hpe2 Blood', 1],\n",
       " ['joint crystals number Joint Fluid', 1],\n",
       " ['monocytes Ascites', 1],\n",
       " ['joint crystals location Joint Fluid', 1],\n",
       " ['lymphocytes Ascites', 1],\n",
       " ['free lambda Blood', 1],\n",
       " ['gentamicin Blood', 1],\n",
       " ['free kappa Blood', 1],\n",
       " ['calcium oxalate crystals Urine', 1],\n",
       " ['prostate specific antigen Blood', 1],\n",
       " ['cellular cast Urine', 1],\n",
       " ['luc Blood', 1],\n",
       " ['double stranded dna Blood', 1],\n",
       " ['protein total Blood', 1],\n",
       " ['monos Other Body Fluid', 1],\n",
       " ['bicarbonate urine Urine', 1],\n",
       " ['other Ascites', 1],\n",
       " ['polys Joint Fluid', 1],\n",
       " ['rbc ascites Ascites', 1],\n",
       " ['hpe3 Blood', 1],\n",
       " ['macrophage Other Body Fluid', 1],\n",
       " ['anti-nuclear antibody Blood', 1],\n",
       " ['glucose pleural Pleural', 1],\n",
       " ['total nucleated cells joint Joint Fluid', 1],\n",
       " ['hepatitis a virus antibody Blood', 1],\n",
       " ['rbc other fluid Other Body Fluid', 1],\n",
       " ['rheumatoid factor Blood', 1],\n",
       " ['bite cells Blood', 1],\n",
       " ['lymphocytes Joint Fluid', 1],\n",
       " ['joint crystals shape Joint Fluid', 1],\n",
       " ['rbc joint fluid Joint Fluid', 1],\n",
       " ['renal epithelial cells Urine', 1]]"
      ]
     },
     "execution_count": 51,
     "metadata": {},
     "output_type": "execute_result"
    }
   ],
   "source": [
    "freqevents.values.tolist()"
   ]
  },
  {
   "cell_type": "code",
   "execution_count": 52,
   "id": "e26891dd",
   "metadata": {},
   "outputs": [],
   "source": [
    "groupedlist = []\n",
    "groupitems = []\n",
    "index, total = 0, 0\n",
    "for item, count in freqevents.values.tolist():\n",
    "    total += count\n",
    "    if total > n: break\n",
    "    groupedlist.append([index, item])\n",
    "    groupitems.append(item)\n",
    "    index += 1  "
   ]
  },
  {
   "cell_type": "code",
   "execution_count": 53,
   "id": "6d2a04bb",
   "metadata": {},
   "outputs": [
    {
     "data": {
      "text/plain": [
       "25"
      ]
     },
     "execution_count": 53,
     "metadata": {},
     "output_type": "execute_result"
    }
   ],
   "source": [
    "len(groupitems)"
   ]
  },
  {
   "cell_type": "code",
   "execution_count": 54,
   "id": "91970fdb",
   "metadata": {},
   "outputs": [
    {
     "data": {
      "text/plain": [
       "['glucose Blood',\n",
       " 'hemoglobin Blood',\n",
       " 'ph Blood',\n",
       " 'calculated total co2 Blood',\n",
       " 'po2 Blood',\n",
       " 'base excess Blood',\n",
       " 'pco2 Blood',\n",
       " 'hematocrit Blood',\n",
       " 'potassium whole blood Blood',\n",
       " 'potassium Blood',\n",
       " 'chloride Blood',\n",
       " 'platelet count Blood',\n",
       " 'free calcium Blood',\n",
       " 'sodium Blood',\n",
       " 'white blood cells Blood',\n",
       " 'mchc Blood',\n",
       " 'mch Blood',\n",
       " 'mcv Blood',\n",
       " 'red blood cells Blood',\n",
       " 'rdw Blood',\n",
       " 'creatinine Blood',\n",
       " 'urea nitrogen Blood',\n",
       " 'bicarbonate Blood',\n",
       " 'anion gap Blood',\n",
       " 'magnesium Blood']"
      ]
     },
     "execution_count": 54,
     "metadata": {},
     "output_type": "execute_result"
    }
   ],
   "source": [
    "groupitems"
   ]
  },
  {
   "cell_type": "code",
   "execution_count": 35,
   "id": "a4f0f0d4",
   "metadata": {},
   "outputs": [],
   "source": [
    "df = pd.DataFrame(groupedlist)\n",
    "df.to_csv('filterkeep80per.csv', index=False)"
   ]
  },
  {
   "cell_type": "code",
   "execution_count": 33,
   "id": "3c93ee6d",
   "metadata": {},
   "outputs": [
    {
     "ename": "NameError",
     "evalue": "name 'df' is not defined",
     "output_type": "error",
     "traceback": [
      "\u001b[0;31m---------------------------------------------------------------------------\u001b[0m",
      "\u001b[0;31mNameError\u001b[0m                                 Traceback (most recent call last)",
      "Cell \u001b[0;32mIn[33], line 1\u001b[0m\n\u001b[0;32m----> 1\u001b[0m \u001b[43mdf\u001b[49m\n",
      "\u001b[0;31mNameError\u001b[0m: name 'df' is not defined"
     ]
    }
   ],
   "source": [
    "df"
   ]
  },
  {
   "cell_type": "code",
   "execution_count": null,
   "id": "d50bc889",
   "metadata": {},
   "outputs": [],
   "source": []
  },
  {
   "cell_type": "code",
   "execution_count": 41,
   "id": "a8a8ae6e",
   "metadata": {},
   "outputs": [],
   "source": [
    "newdata = data[data[\"label1\"].isin(groupitems)]"
   ]
  },
  {
   "cell_type": "code",
   "execution_count": 44,
   "id": "a0709a65",
   "metadata": {},
   "outputs": [],
   "source": [
    "newdata.to_csv('filterkeep80perdata.csv', index=False)"
   ]
  },
  {
   "cell_type": "code",
   "execution_count": null,
   "id": "27ae191d",
   "metadata": {},
   "outputs": [],
   "source": []
  }
 ],
 "metadata": {
  "kernelspec": {
   "display_name": "Python 3 (ipykernel)",
   "language": "python",
   "name": "python3"
  },
  "language_info": {
   "codemirror_mode": {
    "name": "ipython",
    "version": 3
   },
   "file_extension": ".py",
   "mimetype": "text/x-python",
   "name": "python",
   "nbconvert_exporter": "python",
   "pygments_lexer": "ipython3",
   "version": "3.9.16"
  }
 },
 "nbformat": 4,
 "nbformat_minor": 5
}
